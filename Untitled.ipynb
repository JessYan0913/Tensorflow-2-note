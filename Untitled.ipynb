{
 "cells": [
  {
   "cell_type": "markdown",
   "metadata": {},
   "source": [
    "## 1.循环神经网络\n",
    "\n",
    "循环核：参数时间共享，循环层提取时间信息。\n",
    "\n",
    "循环核由多个记忆体组成，当记忆体的个数被指定、输入$x_t$、输出$y_t$的维度被指定，待训练参数的维度也就被限定，记忆体内存储每个时刻的状态信息$h_t$\n",
    "\n",
    "$$\n",
    "y_t = softmax(h_tw_{hy}+by)\n",
    "$$\n",
    "\n",
    "$$\n",
    "h_t = tanh(x_{t}w_{xh}+h_{t-1}w_{hh}+bh)\n",
    "$$\n",
    "\n",
    "- tanh：激活函数\n",
    "- $x_{t}$：当前输入特征\n",
    "- $w_{xh}$：矩阵\n",
    "- $h_{t-1}$：记忆体上一时刻存储的状态信息\n",
    "- $w_{hh}$：矩阵\n",
    "- $bh$：偏执项"
   ]
  },
  {
   "cell_type": "code",
   "execution_count": null,
   "metadata": {},
   "outputs": [],
   "source": []
  }
 ],
 "metadata": {
  "kernelspec": {
   "display_name": "Python 3",
   "language": "python",
   "name": "python3"
  },
  "language_info": {
   "codemirror_mode": {
    "name": "ipython",
    "version": 3
   },
   "file_extension": ".py",
   "mimetype": "text/x-python",
   "name": "python",
   "nbconvert_exporter": "python",
   "pygments_lexer": "ipython3",
   "version": "3.7.6"
  }
 },
 "nbformat": 4,
 "nbformat_minor": 4
}
