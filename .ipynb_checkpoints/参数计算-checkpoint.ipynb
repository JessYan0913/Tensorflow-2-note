{
 "nbformat": 4,
 "nbformat_minor": 2,
 "metadata": {
  "language_info": {
   "name": "python",
   "codemirror_mode": {
    "name": "ipython",
    "version": 3
   }
  },
  "orig_nbformat": 2,
  "file_extension": ".py",
  "mimetype": "text/x-python",
  "name": "python",
  "npconvert_exporter": "python",
  "pygments_lexer": "ipython3",
  "version": 3
 },
 "cells": [
  {
   "cell_type": "markdown",
   "metadata": {},
   "source": [
    "## 计算DNN中参数的个数\n",
    "\n",
    "DNN中每个神经元与前后相邻层的每个神经元都有连接关系，输入的是特征，输出的是预测结果。\n",
    "\n",
    "$$\n",
    "参数个数 = \\sum{(前层 * 后层) + 后层}\n",
    "$$\n",
    "\n",
    "例如： 有神经网络：\n",
    "```py\n",
    "keras.layers.Dense(500, input_shape=(28, 28))\n",
    "keras.layers.Dense(10)\n",
    "```\n",
    "\n",
    "那么参数有： 第一层：$500 * (28*28) + 500$\n",
    "\n",
    "第二层：$500*10 + 10$"
   ]
  },
  {
   "cell_type": "markdown",
   "metadata": {},
   "source": [
    "## 计算CNN（卷积神经网络）输出图片边长\n",
    "\n",
    "$$\n",
    "输出边长 = (输入图片边长 - 卷积核长 + 1) / 步长\n",
    "$$\n",
    "\n",
    "例如：有卷积网络：\n",
    "```py \n",
    "keras.layers.Conv2D(32, (3,3), input_shappe=(150, 150, 3))\n",
    "```\n",
    "那么卷积输出的图片边长为：$(150 - 3 + 1)/1 = 148$\n",
    "\n",
    "输出维度(148, 148, 32)"
   ]
  }
 ]
}